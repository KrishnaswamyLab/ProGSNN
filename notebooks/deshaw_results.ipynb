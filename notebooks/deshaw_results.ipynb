{
 "cells": [
  {
   "cell_type": "code",
   "execution_count": 1,
   "metadata": {},
   "outputs": [],
   "source": [
    "import pickle as pk\n",
    "import numpy as np\n",
    "import torch\n",
    "from atom3d.util.metrics import auroc\n",
    "from scipy.stats import pearsonr\n",
    "from scipy.stats import spearmanr\n",
    "from sklearn.utils.multiclass import type_of_target\n",
    "import matplotlib.pyplot as plt\n",
    "\n",
    "with open('../test_preds.pkl', 'rb') as file: \n",
    "    # Load the data from the pickle file\n",
    "    test_preds = pk.load(file)\n",
    "\n",
    "with open('../test_targets.pkl', 'rb') as file: \n",
    "    # Load the data from the pickle file\n",
    "    test_targets = pk.load(file)\n"
   ]
  },
  {
   "cell_type": "code",
   "execution_count": 2,
   "metadata": {},
   "outputs": [
    {
     "name": "stderr",
     "output_type": "stream",
     "text": [
      "/tmp/ipykernel_2036654/466841346.py:1: UserWarning: To copy construct from a tensor, it is recommended to use sourceTensor.clone().detach() or sourceTensor.clone().detach().requires_grad_(True), rather than torch.tensor(sourceTensor).\n",
      "  list_of_tensors = [torch.tensor(item) for item in test_targets]\n"
     ]
    }
   ],
   "source": [
    "list_of_tensors = [torch.tensor(item) for item in test_targets]\n",
    "\n",
    "# Stack the list of tensors along the first dimension\n",
    "test_targets = torch.stack(list_of_tensors)"
   ]
  },
  {
   "cell_type": "code",
   "execution_count": 7,
   "metadata": {},
   "outputs": [
    {
     "data": {
      "text/plain": [
       "torch.Size([1997, 56, 3])"
      ]
     },
     "execution_count": 7,
     "metadata": {},
     "output_type": "execute_result"
    }
   ],
   "source": [
    "test_targets.shape"
   ]
  },
  {
   "cell_type": "code",
   "execution_count": 8,
   "metadata": {},
   "outputs": [
    {
     "data": {
      "text/plain": [
       "torch.Size([1997, 56, 3])"
      ]
     },
     "execution_count": 8,
     "metadata": {},
     "output_type": "execute_result"
    }
   ],
   "source": [
    "test_preds.shape"
   ]
  },
  {
   "cell_type": "code",
   "execution_count": 40,
   "metadata": {},
   "outputs": [],
   "source": [
    "def rmsd(test_targets, test_preds):\n",
    "    num_timepoints, num_nodes, num_dimensions = test_targets.shape\n",
    "    test_targets = test_targets.numpy()\n",
    "    test_preds = test_preds.numpy()\n",
    "    # Calculate squared differences\n",
    "    squared_diffs = np.sum(np.square(test_targets - test_preds), axis=2)\n",
    "    \n",
    "    # Sum squared differences over dimensions and nodes\n",
    "    sum_squared_diffs = np.sum(squared_diffs, axis=1)\n",
    "    \n",
    "    # Average squared differences over nodes\n",
    "    avg_squared_diffs = np.mean(sum_squared_diffs, axis=0)\n",
    "    \n",
    "    # Take square root to get RMSD\n",
    "    rmsd = np.sqrt(avg_squared_diffs)\n",
    "    \n",
    "    return rmsd"
   ]
  },
  {
   "cell_type": "code",
   "execution_count": 16,
   "metadata": {},
   "outputs": [],
   "source": [
    "scc, _ = spearmanr(test_preds[1996], test_targets[1996])"
   ]
  },
  {
   "cell_type": "code",
   "execution_count": 17,
   "metadata": {},
   "outputs": [
    {
     "data": {
      "text/plain": [
       "0.1764183185235817"
      ]
     },
     "execution_count": 17,
     "metadata": {},
     "output_type": "execute_result"
    }
   ],
   "source": [
    "np.mean(scc)"
   ]
  },
  {
   "cell_type": "code",
   "execution_count": 41,
   "metadata": {},
   "outputs": [
    {
     "data": {
      "text/plain": [
       "77.99345627283935"
      ]
     },
     "execution_count": 41,
     "metadata": {},
     "output_type": "execute_result"
    }
   ],
   "source": [
    "rmsd(test_targets, test_preds)"
   ]
  }
 ],
 "metadata": {
  "kernelspec": {
   "display_name": "Python 3",
   "language": "python",
   "name": "python3"
  },
  "language_info": {
   "codemirror_mode": {
    "name": "ipython",
    "version": 3
   },
   "file_extension": ".py",
   "mimetype": "text/x-python",
   "name": "python",
   "nbconvert_exporter": "python",
   "pygments_lexer": "ipython3",
   "version": "3.9.17"
  }
 },
 "nbformat": 4,
 "nbformat_minor": 2
}
