{
 "cells": [
  {
   "cell_type": "code",
   "execution_count": 1,
   "metadata": {},
   "outputs": [],
   "source": [
    "import pickle as pk\n",
    "import numpy as np\n",
    "import torch\n",
    "from atom3d.util.metrics import auroc\n",
    "from scipy.stats import pearsonr\n",
    "from scipy.stats import spearmanr\n",
    "from sklearn.utils.multiclass import type_of_target\n",
    "import matplotlib.pyplot as plt\n",
    "\n",
    "with open('../test_preds.pkl', 'rb') as file: \n",
    "    # Load the data from the pickle file\n",
    "    test_preds = pk.load(file)\n",
    "\n",
    "with open('../test_targets.pkl', 'rb') as file: \n",
    "    # Load the data from the pickle file\n",
    "    test_targets = pk.load(file)\n"
   ]
  },
  {
   "cell_type": "code",
   "execution_count": 2,
   "metadata": {},
   "outputs": [
    {
     "name": "stderr",
     "output_type": "stream",
     "text": [
      "/tmp/ipykernel_3030858/466841346.py:1: UserWarning: To copy construct from a tensor, it is recommended to use sourceTensor.clone().detach() or sourceTensor.clone().detach().requires_grad_(True), rather than torch.tensor(sourceTensor).\n",
      "  list_of_tensors = [torch.tensor(item) for item in test_targets]\n"
     ]
    }
   ],
   "source": [
    "list_of_tensors = [torch.tensor(item) for item in test_targets]\n",
    "\n",
    "# Stack the list of tensors along the first dimension\n",
    "test_targets = torch.stack(list_of_tensors)"
   ]
  },
  {
   "cell_type": "code",
   "execution_count": 3,
   "metadata": {},
   "outputs": [
    {
     "data": {
      "text/plain": [
       "torch.Size([1997, 56, 3])"
      ]
     },
     "execution_count": 3,
     "metadata": {},
     "output_type": "execute_result"
    }
   ],
   "source": [
    "test_targets.shape"
   ]
  },
  {
   "cell_type": "code",
   "execution_count": 4,
   "metadata": {},
   "outputs": [
    {
     "data": {
      "text/plain": [
       "torch.Size([1997, 56, 3])"
      ]
     },
     "execution_count": 4,
     "metadata": {},
     "output_type": "execute_result"
    }
   ],
   "source": [
    "test_preds.shape"
   ]
  },
  {
   "cell_type": "code",
   "execution_count": 5,
   "metadata": {},
   "outputs": [],
   "source": [
    "def rmsd(test_targets, test_preds):\n",
    "    num_timepoints, num_nodes, num_dimensions = test_targets.shape\n",
    "    test_targets = test_targets.numpy()\n",
    "    test_preds = test_preds.numpy()\n",
    "    # Calculate squared differences\n",
    "    squared_diffs = np.sum(np.square(test_targets - test_preds), axis=2)\n",
    "    \n",
    "    # Sum squared differences over dimensions and nodes\n",
    "    sum_squared_diffs = np.sum(squared_diffs, axis=1)\n",
    "    \n",
    "    # Average squared differences over nodes\n",
    "    avg_squared_diffs = np.mean(sum_squared_diffs, axis=0)\n",
    "    \n",
    "    # Take square root to get RMSD\n",
    "    rmsd = np.sqrt(avg_squared_diffs)\n",
    "    \n",
    "    return rmsd"
   ]
  },
  {
   "cell_type": "code",
   "execution_count": 6,
   "metadata": {},
   "outputs": [],
   "source": [
    "def mse(test_targets, test_preds):\n",
    "    # Convert tensors to NumPy arrays\n",
    "    test_targets_np = test_targets.numpy()\n",
    "    test_preds_np = test_preds.numpy()\n",
    "    \n",
    "    # Calculate squared differences\n",
    "    squared_diffs = np.square(test_targets_np - test_preds_np)\n",
    "    \n",
    "    # Calculate mean squared error\n",
    "    mse_value = np.mean(squared_diffs)\n",
    "    \n",
    "    return mse_value"
   ]
  },
  {
   "cell_type": "code",
   "execution_count": 8,
   "metadata": {},
   "outputs": [
    {
     "ename": "ValueError",
     "evalue": "shapes (1997,56,3) and (1997,56,3) not aligned: 3 (dim 2) != 56 (dim 1)",
     "output_type": "error",
     "traceback": [
      "\u001b[0;31m---------------------------------------------------------------------------\u001b[0m",
      "\u001b[0;31mValueError\u001b[0m                                Traceback (most recent call last)",
      "Cell \u001b[0;32mIn[8], line 1\u001b[0m\n\u001b[0;32m----> 1\u001b[0m scc, _ \u001b[38;5;241m=\u001b[39m \u001b[43mpearsonr\u001b[49m\u001b[43m(\u001b[49m\u001b[43mtest_preds\u001b[49m\u001b[43m,\u001b[49m\u001b[43m \u001b[49m\u001b[43mtest_targets\u001b[49m\u001b[43m)\u001b[49m\n",
      "File \u001b[0;32m/gpfs/gibbs/project/krishnaswamy_smita/sv496/conda_envs/mfcn/lib/python3.9/site-packages/scipy/stats/_stats_py.py:4466\u001b[0m, in \u001b[0;36mpearsonr\u001b[0;34m(x, y, alternative)\u001b[0m\n\u001b[1;32m   4462\u001b[0m     msg \u001b[38;5;241m=\u001b[39m (\u001b[38;5;124m\"\u001b[39m\u001b[38;5;124mAn input array is nearly constant; the computed \u001b[39m\u001b[38;5;124m\"\u001b[39m\n\u001b[1;32m   4463\u001b[0m            \u001b[38;5;124m\"\u001b[39m\u001b[38;5;124mcorrelation coefficient may be inaccurate.\u001b[39m\u001b[38;5;124m\"\u001b[39m)\n\u001b[1;32m   4464\u001b[0m     warnings\u001b[38;5;241m.\u001b[39mwarn(stats\u001b[38;5;241m.\u001b[39mNearConstantInputWarning(msg))\n\u001b[0;32m-> 4466\u001b[0m r \u001b[38;5;241m=\u001b[39m \u001b[43mnp\u001b[49m\u001b[38;5;241;43m.\u001b[39;49m\u001b[43mdot\u001b[49m\u001b[43m(\u001b[49m\u001b[43mxm\u001b[49m\u001b[38;5;241;43m/\u001b[39;49m\u001b[43mnormxm\u001b[49m\u001b[43m,\u001b[49m\u001b[43m \u001b[49m\u001b[43mym\u001b[49m\u001b[38;5;241;43m/\u001b[39;49m\u001b[43mnormym\u001b[49m\u001b[43m)\u001b[49m\n\u001b[1;32m   4468\u001b[0m \u001b[38;5;66;03m# Presumably, if abs(r) > 1, then it is only some small artifact of\u001b[39;00m\n\u001b[1;32m   4469\u001b[0m \u001b[38;5;66;03m# floating point arithmetic.\u001b[39;00m\n\u001b[1;32m   4470\u001b[0m r \u001b[38;5;241m=\u001b[39m \u001b[38;5;28mmax\u001b[39m(\u001b[38;5;28mmin\u001b[39m(r, \u001b[38;5;241m1.0\u001b[39m), \u001b[38;5;241m-\u001b[39m\u001b[38;5;241m1.0\u001b[39m)\n",
      "File \u001b[0;32m<__array_function__ internals>:180\u001b[0m, in \u001b[0;36mdot\u001b[0;34m(*args, **kwargs)\u001b[0m\n",
      "\u001b[0;31mValueError\u001b[0m: shapes (1997,56,3) and (1997,56,3) not aligned: 3 (dim 2) != 56 (dim 1)"
     ]
    }
   ],
   "source": [
    "scc, _ = pearsonr(test_preds, test_targets)"
   ]
  },
  {
   "cell_type": "code",
   "execution_count": 17,
   "metadata": {},
   "outputs": [
    {
     "data": {
      "text/plain": [
       "0.1764183185235817"
      ]
     },
     "execution_count": 17,
     "metadata": {},
     "output_type": "execute_result"
    }
   ],
   "source": [
    "pcc"
   ]
  },
  {
   "cell_type": "code",
   "execution_count": 12,
   "metadata": {},
   "outputs": [
    {
     "data": {
      "text/plain": [
       "78.07397166885518"
      ]
     },
     "execution_count": 12,
     "metadata": {},
     "output_type": "execute_result"
    }
   ],
   "source": [
    "rmsd(test_targets, test_preds)"
   ]
  },
  {
   "cell_type": "code",
   "execution_count": 10,
   "metadata": {},
   "outputs": [
    {
     "data": {
      "text/plain": [
       "tensor([[[ -1.2950,  -4.6870, -13.3250],\n",
       "         [ -0.0680,  -1.7170, -11.4510],\n",
       "         [ -0.9530,  -0.9940,  -7.8060],\n",
       "         ...,\n",
       "         [ -2.5550,   2.5350,   5.2170],\n",
       "         [ -3.8000,   5.0450,   8.0130],\n",
       "         [ -2.4740,   5.8300,  11.4800]],\n",
       "\n",
       "        [[  1.0520,  -6.6820, -12.0200],\n",
       "         [  1.7130,  -3.1130, -10.5660],\n",
       "         [ -0.1540,  -1.9850,  -7.4440],\n",
       "         ...,\n",
       "         [ -3.9330,   3.1860,   5.0200],\n",
       "         [ -5.5570,   5.8090,   7.3830],\n",
       "         [ -4.4210,   7.0920,  10.7910]],\n",
       "\n",
       "        [[-11.5220,  -1.3750,  -8.3480],\n",
       "         [ -7.6790,  -1.8770,  -8.1460],\n",
       "         [ -5.2310,  -0.2430,  -5.8060],\n",
       "         ...,\n",
       "         [  4.9970,   3.6120,   2.8140],\n",
       "         [  8.0110,   5.8800,   3.5240],\n",
       "         [ 10.7780,   5.1810,   6.1910]],\n",
       "\n",
       "        ...,\n",
       "\n",
       "        [[ -8.4310,  -7.8800,   7.4980],\n",
       "         [ -8.8100,  -5.5620,   4.6150],\n",
       "         [ -5.6610,  -3.4320,   4.0540],\n",
       "         ...,\n",
       "         [  4.0060,   4.7520,  -0.9770],\n",
       "         [  5.3490,   8.2620,  -1.7240],\n",
       "         [  7.1680,   9.1340,  -5.0160]],\n",
       "\n",
       "        [[ -3.1350,  13.6660,   4.3990],\n",
       "         [ -2.9530,  11.2630,   1.3600],\n",
       "         [ -0.8160,   8.1310,   0.8710],\n",
       "         ...,\n",
       "         [  4.4500,  -4.3210,  -1.6380],\n",
       "         [  6.6980,  -6.5900,  -3.7040],\n",
       "         [  6.6090, -10.4460,  -4.2980]],\n",
       "\n",
       "        [[  4.6420,   6.8020, -11.4940],\n",
       "         [  1.2620,   5.5430, -10.1700],\n",
       "         [  1.3980,   2.7910,  -7.4830],\n",
       "         ...,\n",
       "         [ -1.0950,  -5.8410,   3.3390],\n",
       "         [ -2.6470,  -8.9440,   4.9460],\n",
       "         [ -3.9280, -10.1200,   8.3290]]], dtype=torch.float64)"
      ]
     },
     "execution_count": 10,
     "metadata": {},
     "output_type": "execute_result"
    }
   ],
   "source": [
    "test_targets"
   ]
  },
  {
   "cell_type": "code",
   "execution_count": 11,
   "metadata": {},
   "outputs": [
    {
     "data": {
      "text/plain": [
       "tensor([[[-0.2566, -0.3092, -0.5670],\n",
       "         [ 0.1174, -0.5949, -0.6406],\n",
       "         [ 0.0729,  0.0435, -0.2530],\n",
       "         ...,\n",
       "         [ 0.0591,  0.0234,  0.5359],\n",
       "         [-0.0974,  0.2255,  0.1697],\n",
       "         [ 0.0888,  0.3928,  0.5775]],\n",
       "\n",
       "        [[-0.2521, -0.3079, -0.5701],\n",
       "         [ 0.1203, -0.5950, -0.6450],\n",
       "         [ 0.0742,  0.0422, -0.2538],\n",
       "         ...,\n",
       "         [ 0.0622,  0.0182,  0.5371],\n",
       "         [-0.0999,  0.2227,  0.1636],\n",
       "         [ 0.0939,  0.3924,  0.5833]],\n",
       "\n",
       "        [[-0.2546, -0.3057, -0.5689],\n",
       "         [ 0.1210, -0.5934, -0.6389],\n",
       "         [ 0.0762,  0.0404, -0.2536],\n",
       "         ...,\n",
       "         [ 0.0661,  0.0228,  0.5356],\n",
       "         [-0.0978,  0.2236,  0.1715],\n",
       "         [ 0.0927,  0.3914,  0.5820]],\n",
       "\n",
       "        ...,\n",
       "\n",
       "        [[-0.2538, -0.3069, -0.5669],\n",
       "         [ 0.1177, -0.5960, -0.6391],\n",
       "         [ 0.0758,  0.0435, -0.2523],\n",
       "         ...,\n",
       "         [ 0.0601,  0.0231,  0.5360],\n",
       "         [-0.0985,  0.2256,  0.1727],\n",
       "         [ 0.0877,  0.3931,  0.5786]],\n",
       "\n",
       "        [[-0.2542, -0.3115, -0.5672],\n",
       "         [ 0.1209, -0.5969, -0.6405],\n",
       "         [ 0.0724,  0.0414, -0.2514],\n",
       "         ...,\n",
       "         [ 0.0624,  0.0217,  0.5324],\n",
       "         [-0.0974,  0.2266,  0.1681],\n",
       "         [ 0.0897,  0.3892,  0.5849]],\n",
       "\n",
       "        [[-0.2508, -0.3134, -0.5661],\n",
       "         [ 0.1216, -0.5942, -0.6447],\n",
       "         [ 0.0756,  0.0406, -0.2499],\n",
       "         ...,\n",
       "         [ 0.0626,  0.0157,  0.5338],\n",
       "         [-0.0951,  0.2205,  0.1668],\n",
       "         [ 0.0953,  0.3848,  0.5874]]])"
      ]
     },
     "execution_count": 11,
     "metadata": {},
     "output_type": "execute_result"
    }
   ],
   "source": [
    "test_preds"
   ]
  }
 ],
 "metadata": {
  "kernelspec": {
   "display_name": "Python 3",
   "language": "python",
   "name": "python3"
  },
  "language_info": {
   "codemirror_mode": {
    "name": "ipython",
    "version": 3
   },
   "file_extension": ".py",
   "mimetype": "text/x-python",
   "name": "python",
   "nbconvert_exporter": "python",
   "pygments_lexer": "ipython3",
   "version": "3.9.17"
  }
 },
 "nbformat": 4,
 "nbformat_minor": 2
}
