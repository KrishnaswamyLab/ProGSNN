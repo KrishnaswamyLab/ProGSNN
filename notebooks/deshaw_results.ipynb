{
 "cells": [
  {
   "cell_type": "code",
   "execution_count": 1,
   "metadata": {},
   "outputs": [],
   "source": [
    "import pickle as pk\n",
    "import numpy as np\n",
    "import torch\n",
    "from atom3d.util.metrics import auroc\n",
    "from scipy.stats import pearsonr\n",
    "from sklearn.utils.multiclass import type_of_target\n",
    "import matplotlib.pyplot as plt\n",
    "\n",
    "with open('../test_preds.pkl', 'rb') as file: \n",
    "    # Load the data from the pickle file\n",
    "    test_preds = pk.load(file)\n",
    "\n",
    "with open('../test_targets.pkl', 'rb') as file: \n",
    "    # Load the data from the pickle file\n",
    "    test_targets = pk.load(file)\n"
   ]
  },
  {
   "cell_type": "code",
   "execution_count": 9,
   "metadata": {},
   "outputs": [
    {
     "name": "stderr",
     "output_type": "stream",
     "text": [
      "/tmp/ipykernel_3759475/466841346.py:1: UserWarning: To copy construct from a tensor, it is recommended to use sourceTensor.clone().detach() or sourceTensor.clone().detach().requires_grad_(True), rather than torch.tensor(sourceTensor).\n",
      "  list_of_tensors = [torch.tensor(item) for item in test_targets]\n"
     ]
    }
   ],
   "source": [
    "list_of_tensors = [torch.tensor(item) for item in test_targets]\n",
    "\n",
    "# Stack the list of tensors along the first dimension\n",
    "test_targets = torch.stack(list_of_tensors)"
   ]
  },
  {
   "cell_type": "code",
   "execution_count": 13,
   "metadata": {},
   "outputs": [
    {
     "data": {
      "text/plain": [
       "torch.Size([1997, 56, 3])"
      ]
     },
     "execution_count": 13,
     "metadata": {},
     "output_type": "execute_result"
    }
   ],
   "source": [
    "test_preds.shape"
   ]
  },
  {
   "cell_type": "code",
   "execution_count": 14,
   "metadata": {},
   "outputs": [
    {
     "ename": "ValueError",
     "evalue": "shapes (1997,56,3) and (1997,56,3) not aligned: 3 (dim 2) != 56 (dim 1)",
     "output_type": "error",
     "traceback": [
      "\u001b[0;31m---------------------------------------------------------------------------\u001b[0m",
      "\u001b[0;31mValueError\u001b[0m                                Traceback (most recent call last)",
      "Cell \u001b[0;32mIn[14], line 1\u001b[0m\n\u001b[0;32m----> 1\u001b[0m pcc, _ \u001b[38;5;241m=\u001b[39m \u001b[43mpearsonr\u001b[49m\u001b[43m(\u001b[49m\u001b[43mtest_preds\u001b[49m\u001b[43m,\u001b[49m\u001b[43m \u001b[49m\u001b[43mtest_targets\u001b[49m\u001b[43m)\u001b[49m\n",
      "File \u001b[0;32m/gpfs/gibbs/project/krishnaswamy_smita/sv496/conda_envs/mfcn/lib/python3.9/site-packages/scipy/stats/_stats_py.py:4466\u001b[0m, in \u001b[0;36mpearsonr\u001b[0;34m(x, y, alternative)\u001b[0m\n\u001b[1;32m   4462\u001b[0m     msg \u001b[38;5;241m=\u001b[39m (\u001b[38;5;124m\"\u001b[39m\u001b[38;5;124mAn input array is nearly constant; the computed \u001b[39m\u001b[38;5;124m\"\u001b[39m\n\u001b[1;32m   4463\u001b[0m            \u001b[38;5;124m\"\u001b[39m\u001b[38;5;124mcorrelation coefficient may be inaccurate.\u001b[39m\u001b[38;5;124m\"\u001b[39m)\n\u001b[1;32m   4464\u001b[0m     warnings\u001b[38;5;241m.\u001b[39mwarn(stats\u001b[38;5;241m.\u001b[39mNearConstantInputWarning(msg))\n\u001b[0;32m-> 4466\u001b[0m r \u001b[38;5;241m=\u001b[39m \u001b[43mnp\u001b[49m\u001b[38;5;241;43m.\u001b[39;49m\u001b[43mdot\u001b[49m\u001b[43m(\u001b[49m\u001b[43mxm\u001b[49m\u001b[38;5;241;43m/\u001b[39;49m\u001b[43mnormxm\u001b[49m\u001b[43m,\u001b[49m\u001b[43m \u001b[49m\u001b[43mym\u001b[49m\u001b[38;5;241;43m/\u001b[39;49m\u001b[43mnormym\u001b[49m\u001b[43m)\u001b[49m\n\u001b[1;32m   4468\u001b[0m \u001b[38;5;66;03m# Presumably, if abs(r) > 1, then it is only some small artifact of\u001b[39;00m\n\u001b[1;32m   4469\u001b[0m \u001b[38;5;66;03m# floating point arithmetic.\u001b[39;00m\n\u001b[1;32m   4470\u001b[0m r \u001b[38;5;241m=\u001b[39m \u001b[38;5;28mmax\u001b[39m(\u001b[38;5;28mmin\u001b[39m(r, \u001b[38;5;241m1.0\u001b[39m), \u001b[38;5;241m-\u001b[39m\u001b[38;5;241m1.0\u001b[39m)\n",
      "File \u001b[0;32m<__array_function__ internals>:180\u001b[0m, in \u001b[0;36mdot\u001b[0;34m(*args, **kwargs)\u001b[0m\n",
      "\u001b[0;31mValueError\u001b[0m: shapes (1997,56,3) and (1997,56,3) not aligned: 3 (dim 2) != 56 (dim 1)"
     ]
    }
   ],
   "source": [
    "pcc, _ = pearsonr(test_preds.flatten(), test_targets.flatten())"
   ]
  }
 ],
 "metadata": {
  "kernelspec": {
   "display_name": "Python 3",
   "language": "python",
   "name": "python3"
  },
  "language_info": {
   "codemirror_mode": {
    "name": "ipython",
    "version": 3
   },
   "file_extension": ".py",
   "mimetype": "text/x-python",
   "name": "python",
   "nbconvert_exporter": "python",
   "pygments_lexer": "ipython3",
   "version": "3.9.17"
  }
 },
 "nbformat": 4,
 "nbformat_minor": 2
}
