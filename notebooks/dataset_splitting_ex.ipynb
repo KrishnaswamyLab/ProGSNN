{
 "cells": [
  {
   "cell_type": "markdown",
   "id": "3a0fe42e-1c6a-4745-b477-2723f0483daa",
   "metadata": {},
   "source": [
    "Atlas and DE Shaw datasets CV splits."
   ]
  },
  {
   "cell_type": "code",
   "execution_count": 1,
   "id": "024ccd08-b476-417f-9493-782b0d098f7b",
   "metadata": {},
   "outputs": [],
   "source": [
    "\"\"\"\n",
    "ENV\n",
    "\"\"\"\n",
    "import numpy as np\n",
    "from numpy.random import RandomState\n",
    "\n",
    "\"\"\"\n",
    "Splitting seeds by protein dataset\n",
    "\"\"\"\n",
    "CV_SEED_GB3 = 243858\n",
    "CV_SEED_BPTI = 647899\n",
    "CV_SEED_UBIQ = 187349\n",
    "CV_SEED_1bxy = 133538\n",
    "CV_SEED_1bx7 = 988573\n",
    "CV_SEED_1ptq = 781593\n",
    "\n",
    "\"\"\"\n",
    "Splitting function\n",
    "\"\"\"\n",
    "def get_cv_idx_l(seed, dataset_size, k):\n",
    "    \"\"\"\n",
    "    Generates a list of valid set index arrays \n",
    "    for k folds.\n",
    "    \"\"\"\n",
    "    rs = RandomState(seed)\n",
    "    idx = np.arange(dataset_size)\n",
    "    rs.shuffle(idx)\n",
    "    idx_l = np.array_split(idx, k)\n",
    "    return idx_l\n",
    "\n"
   ]
  },
  {
   "cell_type": "code",
   "execution_count": 7,
   "id": "ac28454e-00db-47c2-9d73-3e09d57a8c83",
   "metadata": {},
   "outputs": [
    {
     "name": "stdout",
     "output_type": "stream",
     "text": [
      "fold 1\n",
      "train [ 0  1  2  3  4  6  8  9 10 11 12 13 15 16 17 18 19 20 21 22 23 24 25 27\n",
      " 28 29 30 31 32 33 35 36 37 38 39 40 42 43 45 46 47 48 50 51 52 53 54 56\n",
      " 57 58 59 61 62 64 66 67 69 70 71 72 73 75 76 77 81 82 83 85 86 87 88 89\n",
      " 90 91 92 93 95 97 98 99]\n",
      "valid [65 74  7 68 96 34 79 78 14 63 60 84 55 49 41 80 44 94  5 26] \n",
      "\n",
      "fold 2\n",
      "train [ 3  4  5  6  7  8  9 10 12 13 14 16 17 18 19 20 21 22 23 24 26 27 28 29\n",
      " 31 33 34 35 36 37 38 40 41 42 44 45 46 47 48 49 50 51 53 54 55 56 57 58\n",
      " 60 63 64 65 66 67 68 69 72 74 75 76 77 78 79 80 82 83 84 85 86 87 88 90\n",
      " 91 93 94 95 96 97 98 99]\n",
      "valid [ 2 11 32 43 89 92 81  0 73 71 30 52 61 25 15 59 39 70  1 62] \n",
      "\n",
      "fold 3\n",
      "train [ 0  1  2  4  5  6  7 10 11 12 13 14 15 16 17 18 19 20 21 22 25 26 28 29\n",
      " 30 31 32 33 34 35 36 37 39 40 41 42 43 44 46 48 49 51 52 53 55 56 59 60\n",
      " 61 62 63 65 68 70 71 72 73 74 75 76 78 79 80 81 83 84 85 86 87 88 89 90\n",
      " 91 92 93 94 96 97 98 99]\n",
      "valid [67 27  3 54 69 82 23 24 64 47 77 95 45  8 66 50  9 58 38 57] \n",
      "\n",
      "fold 4\n",
      "train [ 0  1  2  3  5  7  8  9 10 11 12 13 14 15 16 17 19 23 24 25 26 27 28 29\n",
      " 30 32 33 34 35 38 39 41 43 44 45 46 47 48 49 50 51 52 53 54 55 56 57 58\n",
      " 59 60 61 62 63 64 65 66 67 68 69 70 71 73 74 77 78 79 80 81 82 84 85 89\n",
      " 90 91 92 93 94 95 96 97]\n",
      "valid [36 86 42  6  4 40 83 87 18 21 75 98 22 37 99 20 31 76 72 88] \n",
      "\n",
      "fold 5\n",
      "train [ 0  1  2  3  4  5  6  7  8  9 11 14 15 18 20 21 22 23 24 25 26 27 30 31\n",
      " 32 34 36 37 38 39 40 41 42 43 44 45 47 49 50 52 54 55 57 58 59 60 61 62\n",
      " 63 64 65 66 67 68 69 70 71 72 73 74 75 76 77 78 79 80 81 82 83 84 86 87\n",
      " 88 89 92 94 95 96 98 99]\n",
      "valid [16 19 13 29 51 97 93 90 85 28 56 46 12 91 53 17 10 48 35 33] \n",
      "\n"
     ]
    }
   ],
   "source": [
    "\"\"\"\n",
    "Example usage\n",
    "\"\"\"\n",
    "idx_l = get_cv_idx_l(seed=CV_SEED_GB3,\n",
    "                     dataset_size=100, \n",
    "                     k=5)\n",
    "\n",
    "ex_data = np.arange(100)\n",
    "\n",
    "for fold_i in range(5):\n",
    "    idx = idx_l[fold_i]\n",
    "    train_mask = np.full(len(ex_data), True, dtype=bool)\n",
    "    train_mask[idx] = False\n",
    "    train = ex_data[train_mask]\n",
    "    valid = ex_data[idx]\n",
    "\n",
    "    print('fold', fold_i + 1)\n",
    "    print('train', train)\n",
    "    print('valid', valid, '\\n')"
   ]
  }
 ],
 "metadata": {
  "kernelspec": {
   "display_name": "Python 3 (ipykernel)",
   "language": "python",
   "name": "python3"
  },
  "language_info": {
   "codemirror_mode": {
    "name": "ipython",
    "version": 3
   },
   "file_extension": ".py",
   "mimetype": "text/x-python",
   "name": "python",
   "nbconvert_exporter": "python",
   "pygments_lexer": "ipython3",
   "version": "3.11.4"
  }
 },
 "nbformat": 4,
 "nbformat_minor": 5
}
