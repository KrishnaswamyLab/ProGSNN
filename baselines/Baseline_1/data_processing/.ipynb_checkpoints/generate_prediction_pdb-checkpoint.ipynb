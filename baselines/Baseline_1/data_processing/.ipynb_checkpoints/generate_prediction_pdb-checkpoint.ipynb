{
 "cells": [
  {
   "cell_type": "markdown",
   "id": "a1bc3e38-c742-4296-a0fc-7d5252af1dd0",
   "metadata": {},
   "source": [
    "Generate a PDB file for a model (residue-level) prediction, by shifting each atom within a protein's residues by the difference between predicted and original residue coordinates.\n",
    "\n",
    "This atomic PDB file can than be ingested by PyMol, etc."
   ]
  },
  {
   "cell_type": "code",
   "execution_count": null,
   "id": "8c36e786-0eb4-4ea5-80d4-62a300bab059",
   "metadata": {},
   "outputs": [],
   "source": [
    "import numpy as np\n",
    "import mdtraj as md\n",
    "ROOT = \"/Users/davidjohnson/Desktop/prosgnn/data/atlas/1ab1_A_analysis_crambin\"\n",
    "NEW_PDB_FILENAME = \"example\"\n",
    "MD_RUN_INDEX = 1\n",
    "TRAJ_FRAME_INDEX = 0"
   ]
  },
  {
   "cell_type": "code",
   "execution_count": null,
   "id": "c4e56c09-b777-45cc-8559-28c2a4003bde",
   "metadata": {},
   "outputs": [],
   "source": [
    "\"\"\"SET MODEL PREDICTED COORDS ARRAY HERE\"\"\"\n",
    "# model's predicted residue-center coords: need array of shape (n_res, 3)\n",
    "pred_resid_coords = residue_ctr_coords + np.array([1.0, 2.0, 3.0])"
   ]
  },
  {
   "cell_type": "code",
   "execution_count": null,
   "id": "f3ea3695-21c3-4d1b-91fc-12751f19ea84",
   "metadata": {},
   "outputs": [],
   "source": [
    "\"\"\"SET ORIGINAL TRAJECTORY HERE\"\"\"\n",
    "traj = md.load(f\"{ROOT}/1ab1_A_R{MD_RUN_INDEX}.xtc\", \n",
    "               top=f\"{ROOT}/1ab1_A.pdb\")\n",
    "# original frame (want its pdb file)\n",
    "frame = traj[TRAJ_FRAME_INDEX]"
   ]
  },
  {
   "cell_type": "code",
   "execution_count": null,
   "id": "350875f5-2523-4d31-afc6-c686b5d91c2e",
   "metadata": {},
   "outputs": [],
   "source": [
    "# get the original frame's center-of-residue coords\n",
    "residue_ctr_coords = [None] * frame.n_residues\n",
    "for j, residue in enumerate(frame.top.residues):\n",
    "    atom_indices = [atom.index for atom in residue.atoms]\n",
    "    # note that frame.xyz[0].shape = (n_atoms, 3)\n",
    "    atom_coords = frame.xyz[0][atom_indices] \n",
    "    mean_coords = np.mean(atom_coords, axis=0)\n",
    "    residue_ctr_coords[j] = mean_coords\n",
    "residue_ctr_coords = np.row_stack(residue_ctr_coords)\n",
    "\n",
    "# calc differences in residue centers between preds and orig frame\n",
    "# (caution: relies on broadcasting (n_residue, 3)-shaped arrays)\n",
    "ctr_diff = pred_resid_coords - residue_ctr_coords\n",
    "# print(ctr_diff)\n",
    "# ctr_diff.shape\n",
    "\n",
    "# shift orig frame atom coords by residue diffs\n",
    "pred_residue_ctr_coords = [None] * frame.n_residues\n",
    "for j, residue in enumerate(frame.top.residues):\n",
    "    print(f'residue {j}')\n",
    "    atom_indices = [atom.index for atom in residue.atoms]\n",
    "    print(atom_indices)\n",
    "    # note that frame.xyz[0].shape = (n_atoms, 3)\n",
    "    atom_coords = frame.xyz[0][atom_indices]\n",
    "    print(atom_coords)\n",
    "\n",
    "    shift_atom_coords = atom_coords + ctr_diff[j]\n",
    "    print(shift_atom_coords, '\\n')\n",
    "    pred_residue_ctr_coords[j] = shift_atom_coords\n",
    "pred_residue_ctr_coords = np.row_stack(pred_residue_ctr_coords)\n",
    "\n",
    "# make a copy of the orig frame and replace its atom coords\n",
    "new_frame = frame.slice(0, copy=True)\n",
    "new_frame.xyz[0] = pred_residue_ctr_coords"
   ]
  },
  {
   "cell_type": "code",
   "execution_count": null,
   "id": "bbf18392-308d-4fae-afef-b1b736a43654",
   "metadata": {},
   "outputs": [],
   "source": [
    "# save\n",
    "new_frame.save_pdb(filename=f'{ROOT}/{NEW_PDB_FILENAME}.pdb')"
   ]
  },
  {
   "cell_type": "code",
   "execution_count": null,
   "id": "3702e850-ab23-4b27-90bc-c783243ce2c7",
   "metadata": {},
   "outputs": [],
   "source": [
    "# optional: check the saved PDB is open-able\n",
    "new_topology = md.load(f\"{ROOT}/{NEW_PDB_FILENAME}.pdb\").topology\n",
    "new_table, new_bonds = new_topology.to_dataframe()\n",
    "print(new_table.head())"
   ]
  },
  {
   "cell_type": "code",
   "execution_count": null,
   "id": "92f393a1-93f2-482f-9f7a-7e4b348f5530",
   "metadata": {},
   "outputs": [],
   "source": [
    "# launch pymol\n",
    "! pymol\n",
    "\n",
    "# -> open pdb file from top drop-down menus"
   ]
  },
  {
   "cell_type": "code",
   "execution_count": null,
   "id": "222f6cc0-10a9-4049-8735-e0b320855f95",
   "metadata": {},
   "outputs": [],
   "source": []
  }
 ],
 "metadata": {
  "kernelspec": {
   "display_name": "Python 3 (ipykernel)",
   "language": "python",
   "name": "python3"
  },
  "language_info": {
   "codemirror_mode": {
    "name": "ipython",
    "version": 3
   },
   "file_extension": ".py",
   "mimetype": "text/x-python",
   "name": "python",
   "nbconvert_exporter": "python",
   "pygments_lexer": "ipython3",
   "version": "3.11.4"
  }
 },
 "nbformat": 4,
 "nbformat_minor": 5
}
