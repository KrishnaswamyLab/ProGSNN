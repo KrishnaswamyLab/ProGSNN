{
 "cells": [
  {
   "cell_type": "markdown",
   "id": "122feabc-eb18-42f2-84b4-688a527b8caf",
   "metadata": {},
   "source": [
    "# Scratchwork: fit baselines"
   ]
  },
  {
   "cell_type": "code",
   "execution_count": 4,
   "id": "74471496-14d6-416e-af9d-e63665781921",
   "metadata": {},
   "outputs": [],
   "source": [
    "import os\n",
    "import pickle\n",
    "import pandas as pd"
   ]
  },
  {
   "cell_type": "code",
   "execution_count": 1,
   "id": "f37bbe91-7199-4e22-b9f6-8152fe91c511",
   "metadata": {},
   "outputs": [
    {
     "name": "stdout",
     "output_type": "stream",
     "text": [
      "['a', 'b']\n"
     ]
    }
   ],
   "source": [
    "dict = {'a': 1, 'b': 2}\n",
    "l = [None] * len(dict)\n",
    "for i, (k, v) in enumerate(dict.items()):\n",
    "    l[i] = k\n",
    "print(l)"
   ]
  },
  {
   "cell_type": "code",
   "execution_count": 12,
   "id": "9182c25f-b88d-4272-be51-3f1f3fb57a74",
   "metadata": {},
   "outputs": [
    {
     "data": {
      "text/html": [
       "<div>\n",
       "<style scoped>\n",
       "    .dataframe tbody tr th:only-of-type {\n",
       "        vertical-align: middle;\n",
       "    }\n",
       "\n",
       "    .dataframe tbody tr th {\n",
       "        vertical-align: top;\n",
       "    }\n",
       "\n",
       "    .dataframe thead th {\n",
       "        text-align: right;\n",
       "    }\n",
       "</style>\n",
       "<table border=\"1\" class=\"dataframe\">\n",
       "  <thead>\n",
       "    <tr style=\"text-align: right;\">\n",
       "      <th></th>\n",
       "      <th>metric</th>\n",
       "      <th>mean</th>\n",
       "      <th>st_dev</th>\n",
       "      <th>cv_results</th>\n",
       "    </tr>\n",
       "  </thead>\n",
       "  <tbody>\n",
       "    <tr>\n",
       "      <th>0</th>\n",
       "      <td>scc</td>\n",
       "      <td>0.485888</td>\n",
       "      <td>0.001427</td>\n",
       "      <td>[0.4853026588059208, 0.4862928616409936, 0.487...</td>\n",
       "    </tr>\n",
       "    <tr>\n",
       "      <th>1</th>\n",
       "      <td>pcc</td>\n",
       "      <td>0.971010</td>\n",
       "      <td>0.002642</td>\n",
       "      <td>[0.9693511595099308, 0.9719435465103963, 0.974...</td>\n",
       "    </tr>\n",
       "    <tr>\n",
       "      <th>2</th>\n",
       "      <td>rmsd</td>\n",
       "      <td>0.108812</td>\n",
       "      <td>0.001072</td>\n",
       "      <td>[0.11016620825976134, 0.10782026804983616, 0.1...</td>\n",
       "    </tr>\n",
       "  </tbody>\n",
       "</table>\n",
       "</div>"
      ],
      "text/plain": [
       "  metric      mean    st_dev  \\\n",
       "0    scc  0.485888  0.001427   \n",
       "1    pcc  0.971010  0.002642   \n",
       "2   rmsd  0.108812  0.001072   \n",
       "\n",
       "                                          cv_results  \n",
       "0  [0.4853026588059208, 0.4862928616409936, 0.487...  \n",
       "1  [0.9693511595099308, 0.9719435465103963, 0.974...  \n",
       "2  [0.11016620825976134, 0.10782026804983616, 0.1...  "
      ]
     },
     "execution_count": 12,
     "metadata": {},
     "output_type": "execute_result"
    }
   ],
   "source": [
    "path = \"/Users/davidjohnson/Desktop/prosgnn/results/1ptq_A_cv_records.p\"\n",
    "with open(path, \"rb\") as f:\n",
    "    dataset_dict = pickle.load(f)\n",
    "pd.DataFrame.from_records(dataset_dict)\n",
    "\n"
   ]
  },
  {
   "cell_type": "code",
   "execution_count": 11,
   "id": "cdf68043-f817-48b5-b871-01b45eaf22b4",
   "metadata": {},
   "outputs": [
    {
     "data": {
      "text/plain": [
       "{'train_mins': array([0.75078946, 0.6890667 , 0.983457  ], dtype=float32),\n",
       " 'train_maxs': array([3.8186998, 3.6491413, 4.175983 ], dtype=float32)}"
      ]
     },
     "execution_count": 11,
     "metadata": {},
     "output_type": "execute_result"
    }
   ],
   "source": [
    "path = '../data/atlas_1ptq_A_R1_all_transform_info.p'\n",
    "with open(path, \"rb\") as f:\n",
    "    transform_info = pickle.load(f)\n",
    "transform_info"
   ]
  },
  {
   "cell_type": "code",
   "execution_count": 13,
   "id": "7bc3fe0d-6084-48f5-a4d2-c55197408ad7",
   "metadata": {},
   "outputs": [
    {
     "name": "stdout",
     "output_type": "stream",
     "text": [
      "\n",
      "Please wait a moment while I gather a list of all available modules...\n",
      "\n",
      "test_sqlite3: testing with version '2.6.0', sqlite_version '3.42.0'\n"
     ]
    },
    {
     "name": "stderr",
     "output_type": "stream",
     "text": [
      "/Library/Frameworks/Python.framework/Versions/3.11/lib/python3.11/site-packages/Bio/Application/__init__.py:40: BiopythonDeprecationWarning: The Bio.Application modules and modules relying on it have been deprecated.\n",
      "\n",
      "Due to the on going maintenance burden of keeping command line application\n",
      "wrappers up to date, we have decided to deprecate and eventually remove these\n",
      "modules.\n",
      "\n",
      "We instead now recommend building your command line and invoking it directly\n",
      "with the subprocess module.\n",
      "  warnings.warn(\n",
      "/Library/Frameworks/Python.framework/Versions/3.11/lib/python3.11/site-packages/Bio/codonalign/__init__.py:23: BiopythonExperimentalWarning: Bio.codonalign is an experimental module which may undergo significant changes prior to its future official release.\n",
      "  warnings.warn(\n",
      "/Library/Frameworks/Python.framework/Versions/3.11/lib/python3.11/pkgutil.py:92: UserWarning: The numpy.array_api submodule is still experimental. See NEP 47.\n",
      "  __import__(info.name)\n",
      "/Library/Frameworks/Python.framework/Versions/3.11/lib/python3.11/site-packages/_distutils_hack/__init__.py:33: UserWarning: Setuptools is replacing distutils.\n",
      "  warnings.warn(\"Setuptools is replacing distutils.\")\n",
      "/Library/Frameworks/Python.framework/Versions/3.11/lib/python3.11/site-packages/pyspark/pandas/__init__.py:50: UserWarning: 'PYARROW_IGNORE_TIMEZONE' environment variable was not set. It is required to set this environment variable to '1' in both driver and executor sides if you use pyarrow>=2.0.0. pandas-on-Spark will set it for you but it does not work if there is a Spark context already launched.\n",
      "  warnings.warn(\n"
     ]
    },
    {
     "name": "stdout",
     "output_type": "stream",
     "text": [
      "Python version: 3.11.4 (v3.11.4:d2340ef257, Jun  6 2023, 19:15:51) [Clang 13.0.0 (clang-1300.0.29.30)]\n",
      "GEOS version: 3.11.2-CAPI-1.17.2\n",
      "Numpy version: 1.25.2\n"
     ]
    },
    {
     "name": "stderr",
     "output_type": "stream",
     "text": [
      "/Library/Frameworks/Python.framework/Versions/3.11/lib/python3.11/site-packages/torch/distributed/_shard/checkpoint/__init__.py:8: DeprecationWarning: torch.distributed._shard.checkpoint will be deprecated, use torch.distributed.checkpoint instead\n",
      "  warnings.warn(\n",
      "/Library/Frameworks/Python.framework/Versions/3.11/lib/python3.11/site-packages/torch/distributed/_sharded_tensor/__init__.py:8: DeprecationWarning: torch.distributed._sharded_tensor will be deprecated, use torch.distributed._shard.sharded_tensor instead\n",
      "  warnings.warn(\n",
      "/Library/Frameworks/Python.framework/Versions/3.11/lib/python3.11/site-packages/torch/distributed/_sharding_spec/__init__.py:8: DeprecationWarning: torch.distributed._sharding_spec will be deprecated, use torch.distributed._shard.sharding_spec instead\n",
      "  warnings.warn(\n",
      "NOTE: Redirects are currently not supported in Windows or MacOs.\n",
      "/Library/Frameworks/Python.framework/Versions/3.11/lib/python3.11/site-packages/torch_geometric/contrib/__init__.py:8: UserWarning: 'torch_geometric.contrib' contains experimental code and is subject to change. Please use with caution.\n",
      "  warnings.warn(\n",
      "/Library/Frameworks/Python.framework/Versions/3.11/lib/python3.11/site-packages/torch_geometric/graphgym/config.py:19: UserWarning: Could not define global config object. Please install 'yacs' via 'pip install yacs' in order to use GraphGym\n",
      "  warnings.warn(\"Could not define global config object. Please install \"\n",
      "/Library/Frameworks/Python.framework/Versions/3.11/lib/python3.11/site-packages/torch_geometric/graphgym/imports.py:14: UserWarning: Please install 'pytorch_lightning' via  'pip install pytorch_lightning' in order to use GraphGym\n",
      "  warnings.warn(\"Please install 'pytorch_lightning' via  \"\n",
      "/Library/Frameworks/Python.framework/Versions/3.11/lib/python3.11/site-packages/torchvision/datapoints/__init__.py:12: UserWarning: The torchvision.datapoints and torchvision.transforms.v2 namespaces are still Beta. While we do not expect major breaking changes, some APIs may still change according to user feedback. Please submit any feedback you may have in this issue: https://github.com/pytorch/vision/issues/6753, and you can also check out https://github.com/pytorch/vision/issues/7319 to learn more about the APIs that we suspect might involve future changes. You can silence this warning by calling torchvision.disable_beta_transforms_warning().\n",
      "  warnings.warn(_BETA_TRANSFORMS_WARNING)\n",
      "/Library/Frameworks/Python.framework/Versions/3.11/lib/python3.11/site-packages/torchvision/transforms/v2/__init__.py:54: UserWarning: The torchvision.datapoints and torchvision.transforms.v2 namespaces are still Beta. While we do not expect major breaking changes, some APIs may still change according to user feedback. Please submit any feedback you may have in this issue: https://github.com/pytorch/vision/issues/6753, and you can also check out https://github.com/pytorch/vision/issues/7319 to learn more about the APIs that we suspect might involve future changes. You can silence this warning by calling torchvision.disable_beta_transforms_warning().\n",
      "  warnings.warn(_BETA_TRANSFORMS_WARNING)\n"
     ]
    },
    {
     "name": "stdout",
     "output_type": "stream",
     "text": [
      "Bio                 bisect              jupyterlab_pygments select\n",
      "BioSQL              bleach              jupyterlab_server   selectors\n",
      "Cython              blosc2              jupyterlab_widgets  selenium\n",
      "IPython             bs4                 keyword             send2trash\n",
      "PIL                 builtins            kiwisolver          setuptools\n",
      "TrainArgs           bz2                 lazy_loader         shapely\n",
      "__future__          cProfile            lib2to3             shelve\n",
      "__hello__           cachetools          lightning_utilities shlex\n",
      "__phello__          calendar            linecache           shutil\n",
      "_abc                certifi             lmdb                signal\n",
      "_aix_support        cffi                locale              site\n",
      "_argon2_cffi_bindings cgi                 logging             six\n",
      "_ast                cgitb               lzma                skimage\n",
      "_asyncio            charset_normalizer  mailbox             sklearn\n",
      "_bisect             chunk               mailcap             smtpd\n",
      "_blake2             click               markdown            smtplib\n",
      "_bootsubprocess     click_plugins       markupsafe          sndhdr\n",
      "_bz2                cligj               marshal             sniffio\n",
      "_cffi_backend       cmath               math                snuggs\n",
      "_codecs             cmd                 matplotlib          socket\n",
      "_codecs_cn          code                matplotlib_inline   socketserver\n",
      "_codecs_hk          codecs              mdtraj              socks\n",
      "_codecs_iso2022     codeop              medmnist            sockshandler\n",
      "_codecs_jp          collections         mimetypes           sortedcontainers\n",
      "_codecs_kr          colorsys            mistune             soupsieve\n",
      "_codecs_tw          comm                mmap                sqlalchemy\n",
      "_collections        compileall          modulefinder        sqlite3\n",
      "_collections_abc    concurrent          mpmath              sre_compile\n",
      "_compat_pickle      configparser        msgpack             sre_constants\n",
      "_compression        contextlib          multidict           sre_parse\n",
      "_contextvars        contextvars         multipledispatch    ssl\n",
      "_crypt              contourpy           multiprocess        stack_data\n",
      "_csv                copy                multiprocessing     stat\n",
      "_ctypes             copyreg             mxnet               statistics\n",
      "_ctypes_test        cpuinfo             nbclient            statsmodels\n",
      "_curses             crypt               nbconvert           string\n",
      "_curses_panel       csv                 nbformat            stringprep\n",
      "_datetime           ctypes              ndindex             struct\n",
      "_dbm                curses              nest_asyncio        subprocess\n",
      "_decimal            cycler              netrc               sunau\n",
      "_distutils_hack     cython              networkx            sympy\n",
      "_elementtree        dataclasses         nis                 symtable\n",
      "_functools          datasets            nntplib             sys\n",
      "_hashlib            datetime            notebook_shim       sysconfig\n",
      "_heapq              dateutil            ntpath              syslog\n",
      "_imp                dbm                 nturl2path          tables\n",
      "_io                 debugpy             numbers             tabnanny\n",
      "_json               decimal             numexpr             tabulate\n",
      "_locale             decorator           numpy               tarfile\n",
      "_lsprof             defusedxml          oauthlib            telnetlib\n",
      "_lzma               difflib             opcode              tempfile\n",
      "_markupbase         dill                operator            tensorboard\n",
      "_md5                dis                 optparse            tensorboard_data_server\n",
      "_multibytecodec     distutils           os                  termcolor\n",
      "_multiprocess       dmlc_tracker        outcome             terminado\n",
      "_multiprocessing    docopt              overrides           termios\n",
      "_opcode             doctest             packaging           test\n",
      "_operator           dotenv              pandas              test_brownout\n",
      "_osx_support        email               pandasql            testing\n",
      "_pickle             encodings           pandocfilters       tests\n",
      "_posixshmem         ensurepip           parallel            textwrap\n",
      "_posixsubprocess    enum                parso               this\n",
      "_py_abc             errno               pathlib             threading\n",
      "_pydecimal          evaluate            pathos              threadpoolctl\n",
      "_pyio               executing           patsy               tifffile\n",
      "_queue              fastjsonschema      pdb                 time\n",
      "_random             faulthandler        pexpect             timeit\n",
      "_remote_module_non_scriptable fcntl               pickle              tinycss2\n",
      "_scproxy            filecmp             pickleshare         tkinter\n",
      "_sha1               fileinput           pickletools         tlz\n",
      "_sha256             filelock            pip                 token\n",
      "_sha3               findspark           pipes               tokenize\n",
      "_sha512             fiona               pipreqs             tokenizers\n",
      "_signal             fire                pkg_resources       tomllib\n",
      "_sitebuiltins       fnmatch             pkgutil             toolz\n",
      "_socket             fontTools           platform            torch\n",
      "_sqlite3            fqdn                platformdirs        torch_geometric\n",
      "_sre                fractions           plistlib            torchgen\n",
      "_ssl                freesasa            poplib              torchinfo\n",
      "_stat               frozenlist          posix               torchmetrics\n",
      "_statistics         fsspec              posixpath           torchvision\n",
      "_string             ftplib              pox                 tornado\n",
      "_strptime           functools           pp                  tqdm\n",
      "_struct             functorch           ppft                trace\n",
      "_symtable           gc                  pprint              traceback\n",
      "_sysconfigdata__darwin_darwin genericpath         profile             tracemalloc\n",
      "_testbuffer         geojson             prometheus_client   train_fn\n",
      "_testcapi           geopandas           prompt_toolkit      traitlets\n",
      "_testclinic         getopt              pstats              transformers\n",
      "_testimportmultiple getpass             psutil              trio\n",
      "_testinternalcapi   gettext             pty                 trio_websocket\n",
      "_testmultiphase     glob                ptyprocess          tty\n",
      "_thread             gluonts             pure_eval           turtle\n",
      "_threading_local    google_auth_oauthlib pwd                 turtledemo\n",
      "_tkinter            graphlib            py4j                types\n",
      "_tokenize           graphviz            py_compile          typing\n",
      "_tracemalloc        grp                 pyarrow             typing_extensions\n",
      "_typing             grpc                pyasn1              tzdata\n",
      "_uuid               gzip                pyasn1_modules      ujson\n",
      "_warnings           h11                 pyclbr              unicodedata\n",
      "_weakref            h5py                pycparser           unittest\n",
      "_weakrefset         hashlib             pydantic            uri_template\n",
      "_xxsubinterpreters  heapq               pydoc               urllib\n",
      "_xxtestfuzz         hmac                pydoc_data          urllib3\n",
      "_yaml               html                pyexpat             utilities\n",
      "_zoneinfo           http                pygments            uu\n",
      "abc                 huggingface_hub     pylab               uuid\n",
      "absl                idlelib             pyparsing           vae_run_cv\n",
      "accelerate          idna                pyproj              venv\n",
      "affine              imageio             pyrr                warnings\n",
      "aifc                imaplib             pyspark             wave\n",
      "aiohttp             imghdr              pythonjsonlogger    wcwidth\n",
      "aiosignal           imp                 pytz                weakref\n",
      "antigravity         importlib           pywt                webbrowser\n",
      "anyio               inspect             pyximport           webcolors\n",
      "appnope             io                  queue               webencodings\n",
      "argon2              ipaddress           quopri              websocket\n",
      "argparse            ipykernel           random              werkzeug\n",
      "array               ipykernel_launcher  rasterio            wheel\n",
      "arrow               ipywidgets          re                  widgetsnbextension\n",
      "ast                 isoduration         readline            wsgiref\n",
      "asttokens           isympy              referencing         wsproto\n",
      "astunparse          itertools           regex               xdrlib\n",
      "async_lru           jedi                reprlib             xgboost\n",
      "async_timeout       jinja2              requests            xml\n",
      "asynchat            joblib              requests_oauthlib   xmlrpc\n",
      "asyncio             json                resource            xxhash\n",
      "asyncore            json5               responses           xxlimited\n",
      "atexit              jsonpointer         rfc3339_validator   xxlimited_35\n",
      "atom3d              jsonschema          rfc3986_validator   xxsubtype\n",
      "attr                jsonschema_specifications rlcompleter         yaml\n",
      "attrs               jupyter             rpds                yarg\n",
      "audioop             jupyter_client      rsa                 yarl\n",
      "babel               jupyter_core        runpy               zipapp\n",
      "backcall            jupyter_events      safetensors         zipfile\n",
      "base64              jupyter_lsp         sched               zipimport\n",
      "bdb                 jupyter_server      scipy               zlib\n",
      "binascii            jupyter_server_terminals seaborn             zmq\n",
      "biobox              jupyterlab          secrets             zoneinfo\n",
      "\n",
      "Enter any module name to get more help.  Or, type \"modules spam\" to search\n",
      "for modules whose name or summary contain the string \"spam\".\n",
      "\n"
     ]
    }
   ],
   "source": [
    "help('modules')"
   ]
  },
  {
   "cell_type": "code",
   "execution_count": null,
   "id": "30b60e7f-2296-45f1-b2ed-10798867fa56",
   "metadata": {},
   "outputs": [],
   "source": []
  },
  {
   "cell_type": "code",
   "execution_count": null,
   "id": "0f3db461-6559-4c73-86e2-5d871b1ea5f0",
   "metadata": {},
   "outputs": [],
   "source": []
  },
  {
   "cell_type": "code",
   "execution_count": null,
   "id": "30b82424-88fc-4b21-b1db-379355f25da6",
   "metadata": {},
   "outputs": [],
   "source": []
  },
  {
   "cell_type": "code",
   "execution_count": null,
   "id": "bf755cb3-954d-443e-a863-425fc0b0d1c3",
   "metadata": {},
   "outputs": [],
   "source": []
  }
 ],
 "metadata": {
  "kernelspec": {
   "display_name": "Python 3 (ipykernel)",
   "language": "python",
   "name": "python3"
  },
  "language_info": {
   "codemirror_mode": {
    "name": "ipython",
    "version": 3
   },
   "file_extension": ".py",
   "mimetype": "text/x-python",
   "name": "python",
   "nbconvert_exporter": "python",
   "pygments_lexer": "ipython3",
   "version": "3.11.4"
  }
 },
 "nbformat": 4,
 "nbformat_minor": 5
}
